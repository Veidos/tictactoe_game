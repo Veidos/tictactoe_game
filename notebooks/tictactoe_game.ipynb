{
 "cells": [
  {
   "cell_type": "markdown",
   "metadata": {},
   "source": [
    "# Tictactoe Game"
   ]
  },
  {
   "cell_type": "markdown",
   "metadata": {},
   "source": [
    "## Code "
   ]
  },
  {
   "cell_type": "code",
   "execution_count": 54,
   "metadata": {},
   "outputs": [],
   "source": [
    "import os\n",
    "from IPython.display import clear_output"
   ]
  },
  {
   "cell_type": "code",
   "execution_count": 55,
   "metadata": {},
   "outputs": [],
   "source": [
    "# Board Game with 9 positions similar to numbers in keyboard.\n",
    "display = \"|-------|-------|-------|\\n|   7   |   8   |   9   |\\n|-------|-------|-------|\\n|   4   |   5   |   6   |\\n|-------|-------|-------|\\n|   1   |   2   |   3   |\\n|-------|-------|-------|\"\n",
    "list_positions = [1, 2, 3, 4, 5, 6, 7, 8, 9]"
   ]
  },
  {
   "cell_type": "code",
   "execution_count": 56,
   "metadata": {},
   "outputs": [],
   "source": [
    "def player_moves():\n",
    "    \n",
    "    while True:\n",
    "        position = input(\"Select a position (numbers 1 to 9):\\n\")\n",
    "\n",
    "        if position.isdigit() and int(position) in list_positions:\n",
    "            return int(position)\n",
    "        else:\n",
    "            print(\"Please select a valid position.\")\n"
   ]
  },
  {
   "cell_type": "code",
   "execution_count": 57,
   "metadata": {},
   "outputs": [],
   "source": [
    "# player selector\n",
    "def player_selector():\n",
    "    \n",
    "    player_1 = input(\"Player 1, please, choose your nickname:\\n\")\n",
    "    player_2 = input(\"Player 2, please, choose your nickname:\\n\")\n",
    "\n",
    "    return player_1, player_2\n",
    "    "
   ]
  },
  {
   "cell_type": "code",
   "execution_count": 58,
   "metadata": {},
   "outputs": [],
   "source": [
    "# Win condition\n",
    "def win_condition(player_1, player_2):\n",
    "    \n",
    "    \"\"\"Win combinations are horizontal, vertical, and diagonal three consecutives values in tictactoe\"\"\"\n",
    "    win_combinations = [(1,2,3),(4,5,6),(7,8,9),(1,5,9),(3,5,7),(1,4,7),(2,5,8),(3,6,9)]\n",
    "    for combination in win_combinations:\n",
    "        \"\"\"Check if all cells in player_1 and player_2 are in the win combination\"\"\"\n",
    "        if all(cell in player_1 for cell in combination) or all(cell in player_2 for cell in combination):\n",
    "            return True\n",
    "    \n",
    "    return False"
   ]
  },
  {
   "cell_type": "code",
   "execution_count": 59,
   "metadata": {},
   "outputs": [],
   "source": [
    "def tie_condition(player_1, player_2):\n",
    "    if len(player_2) == 5 or len(player_1) == 5:\n",
    "        return True\n",
    "    return False"
   ]
  },
  {
   "cell_type": "code",
   "execution_count": 60,
   "metadata": {},
   "outputs": [],
   "source": [
    "def rules_tictactoe():\n",
    "    \n",
    "    print(\"SETING UP THE TICTACTOE GAME\")\n",
    "    print(\"....................\\n....................\")\n",
    "    print(display)\n",
    "    print(\"....................\\n....................\")\n",
    "    print(\"Rules:\\n-You will use the numeric keyboard.\")\n",
    "    print(\"-Every player will select a position represented\\n by a number as shown before.\")\n",
    "    print(\"-One a player select three consecutive positions in any direction\\n that player will be que winner.\")\n",
    "    print(\"-Enjoy!\")"
   ]
  },
  {
   "cell_type": "code",
   "execution_count": 61,
   "metadata": {},
   "outputs": [],
   "source": [
    "def board_display(display, player, actual_move):\n",
    "\n",
    "    internal_display = display\n",
    "\n",
    "    player_x = []\n",
    "    player_o = []\n",
    "    for position in list_positions:\n",
    "        if position == actual_move:\n",
    "            display = display.replace(str(actual_move), f\"{player}\")\n",
    "            internal_display = internal_display.replace(str(actual_move), f\"{player}\")\n",
    "\n",
    "        elif str(position) in display:\n",
    "            display = display.replace(str(position), \" \")\n",
    "\n",
    "    return display, internal_display, player_x, player_o"
   ]
  },
  {
   "cell_type": "code",
   "execution_count": 62,
   "metadata": {},
   "outputs": [],
   "source": [
    "# Algorithm Tictactoe\n",
    "\n",
    "def back_end_tictactoe():\n",
    "    display = \"|-------|-------|-------|\\n|   7   |   8   |   9   |\\n|-------|-------|-------|\\n|   4   |   5   |   6   |\\n|-------|-------|-------|\\n|   1   |   2   |   3   |\\n|-------|-------|-------|\"\n",
    "\n",
    "    \"\"\" Set up game init \"\"\"\n",
    "    rules_tictactoe()\n",
    "    name_player = player_selector()\n",
    "    name = name_player[0]    \n",
    "\n",
    "    \"\"\" Positions played \"\"\"\n",
    "    player_1 = []\n",
    "    player_2 = []\n",
    "    moves_done = []\n",
    "\n",
    "    \"\"\" Iterations between X and O \"\"\"\n",
    "    player = \"O\"\n",
    "\n",
    "    while True:\n",
    "        \"\"\" Player moves \"\"\"\n",
    "        print(\"\\n\")\n",
    "        print(f\"{name} IS YOUR TURN >>>\\n\")\n",
    "        actual_move = player_moves()\n",
    "\n",
    "        \"\"\" Board display \"\"\" \n",
    "        clear_output()\n",
    "        board = board_display(display, player, actual_move)\n",
    "        display = board[1]\n",
    "        print(board[0])\n",
    "        print(\"\\n\")\n",
    "        \n",
    "        \"\"\" test if the moves are done \"\"\"\n",
    "        while actual_move in set(moves_done):\n",
    "            print(\"The move is already in the board\")\n",
    "            print(\"...\\n...\\n...\")\n",
    "            actual_move = player_moves()\n",
    "\n",
    "        \"\"\" Saving all moves \"\"\"\n",
    "        moves_done.append(actual_move)\n",
    "\n",
    "        if player == \"X\":\n",
    "            player = \"O\"\n",
    "            name = name_player[0]\n",
    "            player_1.append(actual_move)\n",
    "\n",
    "        else:\n",
    "            player = \"X\"\n",
    "            name = name_player[1]\n",
    "            player_2.append(actual_move)\n",
    "       \n",
    "        \"\"\" Win condition \"\"\"\n",
    "        if win_condition(player_1, player_2):\n",
    "            print(\"You Win!\")\n",
    "            print(f\"moves done: {moves_done}\")\n",
    "            print(f\"player 1 moves: {player_1}\")\n",
    "            print(f\"player 2 moves: {player_2}\")\n",
    "            break\n",
    "        elif tie_condition(player_1, player_2):\n",
    "            print(\"Its a Tie!\")\n",
    "            print(f\"moves done: {moves_done}\")\n",
    "            print(f\"player 1 moves: {player_1}\")\n",
    "            print(f\"player 2 moves: {player_2}\")\n",
    "            break\n",
    "        \n",
    "    "
   ]
  },
  {
   "cell_type": "markdown",
   "metadata": {},
   "source": [
    "## Game"
   ]
  },
  {
   "cell_type": "code",
   "execution_count": 63,
   "metadata": {},
   "outputs": [
    {
     "name": "stdout",
     "output_type": "stream",
     "text": [
      "|-------|-------|-------|\n",
      "|   O   |   X   |   X   |\n",
      "|-------|-------|-------|\n",
      "|   X   |   O   |   O   |\n",
      "|-------|-------|-------|\n",
      "|   O   |   O   |   X   |\n",
      "|-------|-------|-------|\n",
      "\n",
      "\n",
      "Its a Tie!\n",
      "moves done: [5, 9, 2, 8, 7, 3, 6, 4, 1]\n",
      "player 1 moves: [9, 8, 3, 4]\n",
      "player 2 moves: [5, 2, 7, 6, 1]\n"
     ]
    }
   ],
   "source": [
    "back_end_tictactoe()"
   ]
  },
  {
   "cell_type": "code",
   "execution_count": null,
   "metadata": {},
   "outputs": [],
   "source": []
  }
 ],
 "metadata": {
  "kernelspec": {
   "display_name": "base",
   "language": "python",
   "name": "python3"
  },
  "language_info": {
   "codemirror_mode": {
    "name": "ipython",
    "version": 3
   },
   "file_extension": ".py",
   "mimetype": "text/x-python",
   "name": "python",
   "nbconvert_exporter": "python",
   "pygments_lexer": "ipython3",
   "version": "3.11.7"
  }
 },
 "nbformat": 4,
 "nbformat_minor": 2
}
