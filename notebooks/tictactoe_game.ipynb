{
 "cells": [
  {
   "cell_type": "markdown",
   "metadata": {},
   "source": [
    "# Tictactoe Game"
   ]
  },
  {
   "cell_type": "code",
   "execution_count": 5,
   "metadata": {},
   "outputs": [],
   "source": [
    "# Board Game with 9 positions similar to numbers in keyboard.\n",
    "display = \"|-------|-------|-------|\\n|   7   |   8   |   9   |\\n|-------|-------|-------|\\n|   4   |   5   |   6   |\\n|-------|-------|-------|\\n|   1   |   2   |   3   |\\n|-------|-------|-------|\"\n",
    "list_positions = [1, 2, 3, 4, 5, 6, 7, 8, 9]"
   ]
  },
  {
   "cell_type": "code",
   "execution_count": 6,
   "metadata": {},
   "outputs": [
    {
     "name": "stdout",
     "output_type": "stream",
     "text": [
      "|-------|-------|-------|\n",
      "|   7   |   8   |   9   |\n",
      "|-------|-------|-------|\n",
      "|   4   |   5   |   6   |\n",
      "|-------|-------|-------|\n",
      "|   1   |   2   |   3   |\n",
      "|-------|-------|-------|\n"
     ]
    }
   ],
   "source": [
    "print(display)"
   ]
  },
  {
   "cell_type": "code",
   "execution_count": 7,
   "metadata": {},
   "outputs": [],
   "source": [
    "def player_moves():\n",
    "\n",
    "    while True:\n",
    "        position = input(\"Select a position (numbers 1 to 9):\\n\")\n",
    "\n",
    "        if position.isdigit() and int(position) in list_positions:\n",
    "            return int(position)\n",
    "        else:\n",
    "            print(\"Please select a valid position.\")\n"
   ]
  },
  {
   "cell_type": "code",
   "execution_count": 56,
   "metadata": {},
   "outputs": [
    {
     "name": "stdout",
     "output_type": "stream",
     "text": [
      "Please select a valid position.\n",
      "Please select a valid position.\n",
      "Please select a valid position.\n"
     ]
    },
    {
     "data": {
      "text/plain": [
       "2"
      ]
     },
     "execution_count": 56,
     "metadata": {},
     "output_type": "execute_result"
    }
   ],
   "source": [
    "player_moves()"
   ]
  },
  {
   "cell_type": "code",
   "execution_count": 3,
   "metadata": {},
   "outputs": [],
   "source": [
    "# player selector\n",
    "def player_selector():\n",
    "    player_1 = input(\"Player 1, please, choose your nickname:\\n\")\n",
    "    player_2 = input(\"Player 2, please, choose your nickname:\\n\")\n",
    "    return player_1, player_2\n",
    "    "
   ]
  },
  {
   "cell_type": "code",
   "execution_count": 4,
   "metadata": {},
   "outputs": [
    {
     "data": {
      "text/plain": [
       "('Miguel', 'Holland')"
      ]
     },
     "execution_count": 4,
     "metadata": {},
     "output_type": "execute_result"
    }
   ],
   "source": [
    "player_selector()"
   ]
  },
  {
   "cell_type": "code",
   "execution_count": 24,
   "metadata": {},
   "outputs": [],
   "source": [
    "# Win condition\n",
    "def win_condition(player_1, player_2):\n",
    "    \"\"\"Win combinations are horizontal, vertical, and diagonal three consecutives values in tictactoe\"\"\"\n",
    "    win_combinations = [(1,2,3),(4,5,6),(7,8,9),(1,5,9),(3,5,7),(1,4,7),(2,5,8),(3,6,9)]\n",
    "    for combination in win_combinations:\n",
    "        \"\"\"Check if all cells in player_1 and player_2 are in the win combination\"\"\"\n",
    "        if all(cell in player_1 for cell in combination) or all(cell in player_2 for cell in combination):\n",
    "            return True"
   ]
  },
  {
   "cell_type": "code",
   "execution_count": 23,
   "metadata": {},
   "outputs": [],
   "source": [
    "win_condition((7, 3, 2, 6), ())"
   ]
  },
  {
   "cell_type": "code",
   "execution_count": null,
   "metadata": {},
   "outputs": [],
   "source": [
    "# Algorithm Tictactoe\n",
    "def back_end_tictactoe():\n",
    "    player_1 = ()\n",
    "    player_2 = ()\n",
    "    while True:\n",
    "        \"\"\"Win condition\"\"\"\n",
    "    pass"
   ]
  },
  {
   "cell_type": "code",
   "execution_count": 9,
   "metadata": {},
   "outputs": [
    {
     "data": {
      "text/plain": [
       "('|       |       |   O   |\\n|-------|-------|-------|\\n|       |       |       |\\n|-------|-------|-------|\\n|       |       |       |',\n",
       " '|   1   |   2   |   O   |\\n|-------|-------|-------|\\n|   4   |   5   |   6   |\\n|-------|-------|-------|\\n|   7   |   8   |   9   |',\n",
       " [],\n",
       " ['3'])"
      ]
     },
     "execution_count": 9,
     "metadata": {},
     "output_type": "execute_result"
    }
   ],
   "source": [
    "moves_display(display)"
   ]
  },
  {
   "cell_type": "code",
   "execution_count": 6,
   "metadata": {},
   "outputs": [],
   "source": [
    "# OLD CODE IDEA\n",
    "def moves_display(display):\n",
    "    internal_display = display\n",
    "    moves_done = []\n",
    "    actual_move = player_moves()\n",
    "    \"\"\" test  if the moves are done\"\"\"\n",
    "    while actual_move in moves_done:\n",
    "        print(\"The move is already in the board\")\n",
    "        actual_move = player_moves()\n",
    "qe        moves_done.append(actual_move)\n",
    "    \"\"\" change the number for X and O in the board\"\"\"\n",
    "    X_O = True\n",
    "    if X_O:\n",
    "        X_O = False\n",
    "    elif X_O == False:\n",
    "        X_O = True\n",
    "    \n",
    "    player = \"\"\n",
    "    if X_O == True:\n",
    "        player = \"X\"\n",
    "    else:\n",
    "        player = \"O\"\n",
    "\n",
    "    \"\"\" displaying the board \"\"\"\n",
    "    player_x = []\n",
    "    player_o = []\n",
    "    for position in list_positions:\n",
    "        if position == actual_move:\n",
    "            display = display.replace(actual_move, f\"{player}\")\n",
    "            internal_display = internal_display.replace(actual_move, f\"{player}\")\n",
    "            moves_done.append(actual_move)\n",
    "            \"\"\" Saving players moves \"\"\"\n",
    "            if player == \"X\":\n",
    "                player_x.append(actual_move)\n",
    "            else:\n",
    "                player_o.append(actual_move)\n",
    "        elif position in display:\n",
    "            display = display.replace(position, \" \")\n",
    "\n",
    "    return display, internal_display, player_x, player_o"
   ]
  }
 ],
 "metadata": {
  "kernelspec": {
   "display_name": "base",
   "language": "python",
   "name": "python3"
  },
  "language_info": {
   "codemirror_mode": {
    "name": "ipython",
    "version": 3
   },
   "file_extension": ".py",
   "mimetype": "text/x-python",
   "name": "python",
   "nbconvert_exporter": "python",
   "pygments_lexer": "ipython3",
   "version": "3.11.7"
  }
 },
 "nbformat": 4,
 "nbformat_minor": 2
}
