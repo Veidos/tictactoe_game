{
 "cells": [
  {
   "cell_type": "markdown",
   "metadata": {},
   "source": [
    "# Tictactoe Game"
   ]
  },
  {
   "cell_type": "code",
   "execution_count": 8,
   "metadata": {},
   "outputs": [],
   "source": [
    "# Board Game with 9 positions similar to numbers in keyboard.\n",
    "display = \"|-------|-------|-------|\\n|   7   |   8   |   9   |\\n|-------|-------|-------|\\n|   4   |   5   |   6   |\\n|-------|-------|-------|\\n|   1   |   2   |   3   |\\n|-------|-------|-------|\"\n",
    "list_positions = [1, 2, 3, 4, 5, 6, 7, 8, 9]"
   ]
  },
  {
   "cell_type": "code",
   "execution_count": 18,
   "metadata": {},
   "outputs": [
    {
     "name": "stdout",
     "output_type": "stream",
     "text": [
      "|-------|-------|-------|\n",
      "|   7   |   8   |   9   |\n",
      "|-------|-------|-------|\n",
      "|   4   |   5   |   6   |\n",
      "|-------|-------|-------|\n",
      "|   1   |   2   |   3   |\n",
      "|-------|-------|-------|\n"
     ]
    }
   ],
   "source": [
    "print(display)"
   ]
  },
  {
   "cell_type": "code",
   "execution_count": 55,
   "metadata": {},
   "outputs": [],
   "source": [
    "def to_int(a):\n",
    "    if a is not int:\n",
    "        return int(a)\n",
    "\n",
    "def player_moves():\n",
    "\n",
    "    while True:\n",
    "        position = input(\"Select a position (numbers 1 to 9):\\n\")\n",
    "\n",
    "        if position.isdigit() and int(position) in list_positions:\n",
    "            return int(position)\n",
    "        else:\n",
    "            print(\"Please select a valid position.\")\n"
   ]
  },
  {
   "cell_type": "code",
   "execution_count": 56,
   "metadata": {},
   "outputs": [
    {
     "name": "stdout",
     "output_type": "stream",
     "text": [
      "Please select a valid position.\n",
      "Please select a valid position.\n",
      "Please select a valid position.\n"
     ]
    },
    {
     "data": {
      "text/plain": [
       "2"
      ]
     },
     "execution_count": 56,
     "metadata": {},
     "output_type": "execute_result"
    }
   ],
   "source": [
    "player_moves()"
   ]
  },
  {
   "cell_type": "code",
   "execution_count": 6,
   "metadata": {},
   "outputs": [],
   "source": [
    "def moves_display(display):\n",
    "    internal_display = display\n",
    "    moves_done = []\n",
    "    actual_move = player_moves()\n",
    "    \"\"\" test  if the moves are done\"\"\"\n",
    "    while actual_move in moves_done:\n",
    "        print(\"The move is already in the board\")\n",
    "        actual_move = player_moves()\n",
    "    \"\"\" change the number for X and O in the board\"\"\"\n",
    "    X_O = True\n",
    "    if X_O:\n",
    "        X_O = False\n",
    "    elif X_O == False:\n",
    "        X_O = True\n",
    "    \n",
    "    player = \"\"\n",
    "    if X_O == True:\n",
    "        player = \"X\"\n",
    "    else:\n",
    "        player = \"O\"\n",
    "\n",
    "    \"\"\" displaying the board \"\"\"\n",
    "    player_x = []\n",
    "    player_o = []\n",
    "    for position in list_positions:\n",
    "        if position == actual_move:\n",
    "            display = display.replace(actual_move, f\"{player}\")\n",
    "            internal_display = internal_display.replace(actual_move, f\"{player}\")\n",
    "            moves_done.append(actual_move)\n",
    "            \"\"\" Saving players moves \"\"\"\n",
    "            if player == \"X\":\n",
    "                player_x.append(actual_move)\n",
    "            else:\n",
    "                player_o.append(actual_move)\n",
    "        elif position in display:\n",
    "            display = display.replace(position, \" \")\n",
    "\n",
    "    return display, internal_display, player_x, player_o"
   ]
  },
  {
   "cell_type": "code",
   "execution_count": 7,
   "metadata": {},
   "outputs": [],
   "source": [
    "def game_tictactoe():\n",
    "    \"\"\"Win conditions\"\"\"\n",
    "    win_combinations = [[\"1\",\"2\",\"3\"],[\"4\",\"5\",\"6\"],[\"7\",\"8\",\"9\"],[\"1\",\"5\",\"9\"],[\"3\",\"5\",\"7\"],[\"1\",\"4\",\"7\"],[\"2\",\"5\",\"8\"],[\"3\",\"6\",\"9\"]]\n",
    "    display_position = moves_display(display)\n",
    "    print(display_position[0])"
   ]
  },
  {
   "cell_type": "code",
   "execution_count": 9,
   "metadata": {},
   "outputs": [
    {
     "data": {
      "text/plain": [
       "('|       |       |   O   |\\n|-------|-------|-------|\\n|       |       |       |\\n|-------|-------|-------|\\n|       |       |       |',\n",
       " '|   1   |   2   |   O   |\\n|-------|-------|-------|\\n|   4   |   5   |   6   |\\n|-------|-------|-------|\\n|   7   |   8   |   9   |',\n",
       " [],\n",
       " ['3'])"
      ]
     },
     "execution_count": 9,
     "metadata": {},
     "output_type": "execute_result"
    }
   ],
   "source": [
    "moves_display(display)"
   ]
  },
  {
   "cell_type": "code",
   "execution_count": 10,
   "metadata": {},
   "outputs": [
    {
     "name": "stdout",
     "output_type": "stream",
     "text": [
      "|   1   |   2   |   3   |\n",
      "|-------|-------|-------|\n",
      "|   4   |   5   |   6   |\n",
      "|-------|-------|-------|\n",
      "|   7   |   8   |   9   |\n"
     ]
    }
   ],
   "source": [
    "print(display)"
   ]
  }
 ],
 "metadata": {
  "kernelspec": {
   "display_name": "base",
   "language": "python",
   "name": "python3"
  },
  "language_info": {
   "codemirror_mode": {
    "name": "ipython",
    "version": 3
   },
   "file_extension": ".py",
   "mimetype": "text/x-python",
   "name": "python",
   "nbconvert_exporter": "python",
   "pygments_lexer": "ipython3",
   "version": "3.11.7"
  }
 },
 "nbformat": 4,
 "nbformat_minor": 2
}
